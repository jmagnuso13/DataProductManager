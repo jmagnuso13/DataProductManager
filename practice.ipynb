{
 "cells": [
  {
   "cell_type": "code",
   "execution_count": 1,
   "metadata": {},
   "outputs": [
    {
     "data": {
      "text/html": [
       "<div>\n",
       "<style scoped>\n",
       "    .dataframe tbody tr th:only-of-type {\n",
       "        vertical-align: middle;\n",
       "    }\n",
       "\n",
       "    .dataframe tbody tr th {\n",
       "        vertical-align: top;\n",
       "    }\n",
       "\n",
       "    .dataframe thead th {\n",
       "        text-align: right;\n",
       "    }\n",
       "</style>\n",
       "<table border=\"1\" class=\"dataframe\">\n",
       "  <thead>\n",
       "    <tr style=\"text-align: right;\">\n",
       "      <th></th>\n",
       "      <th>Capital</th>\n",
       "      <th>GDP ($US Trillion)</th>\n",
       "      <th>Population</th>\n",
       "    </tr>\n",
       "    <tr>\n",
       "      <th>Country</th>\n",
       "      <th></th>\n",
       "      <th></th>\n",
       "      <th></th>\n",
       "    </tr>\n",
       "  </thead>\n",
       "  <tbody>\n",
       "    <tr>\n",
       "      <th>Ireland</th>\n",
       "      <td>Dublin</td>\n",
       "      <td>0.3337</td>\n",
       "      <td>4784000</td>\n",
       "    </tr>\n",
       "    <tr>\n",
       "      <th>United Kingdom</th>\n",
       "      <td>London</td>\n",
       "      <td>2.6220</td>\n",
       "      <td>66040000</td>\n",
       "    </tr>\n",
       "    <tr>\n",
       "      <th>United States</th>\n",
       "      <td>Washington, D.C.</td>\n",
       "      <td>19.3900</td>\n",
       "      <td>327200000</td>\n",
       "    </tr>\n",
       "    <tr>\n",
       "      <th>China</th>\n",
       "      <td>Beijing</td>\n",
       "      <td>12.2400</td>\n",
       "      <td>1386000000</td>\n",
       "    </tr>\n",
       "    <tr>\n",
       "      <th>India</th>\n",
       "      <td>New Delhi</td>\n",
       "      <td>2.5970</td>\n",
       "      <td>1339000000</td>\n",
       "    </tr>\n",
       "    <tr>\n",
       "      <th>Germany</th>\n",
       "      <td>Berlin</td>\n",
       "      <td>3.6770</td>\n",
       "      <td>82790000</td>\n",
       "    </tr>\n",
       "  </tbody>\n",
       "</table>\n",
       "</div>"
      ],
      "text/plain": [
       "                         Capital  GDP ($US Trillion)  Population \n",
       "Country                                                          \n",
       "Ireland                   Dublin              0.3337      4784000\n",
       "United Kingdom            London              2.6220     66040000\n",
       "United States   Washington, D.C.             19.3900    327200000\n",
       "China                    Beijing             12.2400   1386000000\n",
       "India                  New Delhi              2.5970   1339000000\n",
       "Germany                   Berlin              3.6770     82790000"
      ]
     },
     "execution_count": 1,
     "metadata": {},
     "output_type": "execute_result"
    }
   ],
   "source": [
    "import pandas as pd\n",
    "df = pd.read_csv('gdp.csv', index_col=0)\n",
    "\n",
    "df"
   ]
  },
  {
   "cell_type": "code",
   "execution_count": 3,
   "metadata": {},
   "outputs": [
    {
     "name": "stdout",
     "output_type": "stream",
     "text": [
      "Capital\n",
      "GDP ($US Trillion)\n",
      "Population \n"
     ]
    }
   ],
   "source": [
    "for x in df:\n",
    "    print(x)"
   ]
  },
  {
   "cell_type": "code",
   "execution_count": 5,
   "metadata": {},
   "outputs": [
    {
     "name": "stdout",
     "output_type": "stream",
     "text": [
      "Ireland\n",
      "Capital                Dublin\n",
      "GDP ($US Trillion)     0.3337\n",
      "Population            4784000\n",
      "Name: Ireland, dtype: object\n",
      "United Kingdom\n",
      "Capital                 London\n",
      "GDP ($US Trillion)       2.622\n",
      "Population            66040000\n",
      "Name: United Kingdom, dtype: object\n",
      "United States\n",
      "Capital               Washington, D.C.\n",
      "GDP ($US Trillion)               19.39\n",
      "Population                   327200000\n",
      "Name: United States, dtype: object\n",
      "China\n",
      "Capital                  Beijing\n",
      "GDP ($US Trillion)         12.24\n",
      "Population            1386000000\n",
      "Name: China, dtype: object\n",
      "India\n",
      "Capital                New Delhi\n",
      "GDP ($US Trillion)         2.597\n",
      "Population            1339000000\n",
      "Name: India, dtype: object\n",
      "Germany\n",
      "Capital                 Berlin\n",
      "GDP ($US Trillion)       3.677\n",
      "Population            82790000\n",
      "Name: Germany, dtype: object\n"
     ]
    }
   ],
   "source": [
    "for x, y in df.iterrows():\n",
    "    print(x)\n",
    "    print(y)"
   ]
  },
  {
   "cell_type": "code",
   "execution_count": 9,
   "metadata": {},
   "outputs": [
    {
     "data": {
      "text/html": [
       "<div>\n",
       "<style scoped>\n",
       "    .dataframe tbody tr th:only-of-type {\n",
       "        vertical-align: middle;\n",
       "    }\n",
       "\n",
       "    .dataframe tbody tr th {\n",
       "        vertical-align: top;\n",
       "    }\n",
       "\n",
       "    .dataframe thead th {\n",
       "        text-align: right;\n",
       "    }\n",
       "</style>\n",
       "<table border=\"1\" class=\"dataframe\">\n",
       "  <thead>\n",
       "    <tr style=\"text-align: right;\">\n",
       "      <th></th>\n",
       "      <th>Capital</th>\n",
       "      <th>GDP ($US Trillion)</th>\n",
       "      <th>Population</th>\n",
       "      <th>gdp_per_cap</th>\n",
       "    </tr>\n",
       "    <tr>\n",
       "      <th>Country</th>\n",
       "      <th></th>\n",
       "      <th></th>\n",
       "      <th></th>\n",
       "      <th></th>\n",
       "    </tr>\n",
       "  </thead>\n",
       "  <tbody>\n",
       "    <tr>\n",
       "      <th>Ireland</th>\n",
       "      <td>Dublin</td>\n",
       "      <td>0.3337</td>\n",
       "      <td>4784000</td>\n",
       "      <td>69753.344482</td>\n",
       "    </tr>\n",
       "    <tr>\n",
       "      <th>United Kingdom</th>\n",
       "      <td>London</td>\n",
       "      <td>2.6220</td>\n",
       "      <td>66040000</td>\n",
       "      <td>39703.210176</td>\n",
       "    </tr>\n",
       "    <tr>\n",
       "      <th>United States</th>\n",
       "      <td>Washington, D.C.</td>\n",
       "      <td>19.3900</td>\n",
       "      <td>327200000</td>\n",
       "      <td>59260.391198</td>\n",
       "    </tr>\n",
       "    <tr>\n",
       "      <th>China</th>\n",
       "      <td>Beijing</td>\n",
       "      <td>12.2400</td>\n",
       "      <td>1386000000</td>\n",
       "      <td>8831.168831</td>\n",
       "    </tr>\n",
       "    <tr>\n",
       "      <th>India</th>\n",
       "      <td>New Delhi</td>\n",
       "      <td>2.5970</td>\n",
       "      <td>1339000000</td>\n",
       "      <td>1939.507095</td>\n",
       "    </tr>\n",
       "  </tbody>\n",
       "</table>\n",
       "</div>"
      ],
      "text/plain": [
       "                         Capital  GDP ($US Trillion)  Population   \\\n",
       "Country                                                             \n",
       "Ireland                   Dublin              0.3337      4784000   \n",
       "United Kingdom            London              2.6220     66040000   \n",
       "United States   Washington, D.C.             19.3900    327200000   \n",
       "China                    Beijing             12.2400   1386000000   \n",
       "India                  New Delhi              2.5970   1339000000   \n",
       "\n",
       "                 gdp_per_cap  \n",
       "Country                       \n",
       "Ireland         69753.344482  \n",
       "United Kingdom  39703.210176  \n",
       "United States   59260.391198  \n",
       "China            8831.168831  \n",
       "India            1939.507095  "
      ]
     },
     "execution_count": 9,
     "metadata": {},
     "output_type": "execute_result"
    }
   ],
   "source": [
    "for label, row in df.iterrows():\n",
    "    df.loc[label,'gdp_per_cap'] = row['GDP ($US Trillion)']/row['Population '] * 1000000000000\n",
    "df.head()"
   ]
  },
  {
   "cell_type": "code",
   "execution_count": null,
   "metadata": {},
   "outputs": [],
   "source": []
  }
 ],
 "metadata": {
  "kernelspec": {
   "display_name": "Python 3",
   "language": "python",
   "name": "python3"
  },
  "language_info": {
   "codemirror_mode": {
    "name": "ipython",
    "version": 3
   },
   "file_extension": ".py",
   "mimetype": "text/x-python",
   "name": "python",
   "nbconvert_exporter": "python",
   "pygments_lexer": "ipython3",
   "version": "3.8.3"
  }
 },
 "nbformat": 4,
 "nbformat_minor": 4
}
